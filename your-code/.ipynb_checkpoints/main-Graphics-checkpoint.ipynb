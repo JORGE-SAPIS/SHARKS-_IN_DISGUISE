{
 "cells": [
  {
   "cell_type": "code",
   "execution_count": 64,
   "id": "b6dafcce",
   "metadata": {},
   "outputs": [],
   "source": [
    "import pandas as pd\n",
    "import numpy as np\n",
    "import io\n",
    "import matplotlib.pyplot as plt\n",
    "pd.set_option('display.max_columns',None)"
   ]
  },
  {
   "cell_type": "code",
   "execution_count": 65,
   "id": "2acbbefb",
   "metadata": {},
   "outputs": [
    {
     "data": {
      "text/plain": [
       "(3133, 23)"
      ]
     },
     "execution_count": 65,
     "metadata": {},
     "output_type": "execute_result"
    }
   ],
   "source": [
    "df=pd.read_excel(r'C:\\Users\\jvaym\\Desktop\\IRONHACK\\Semana2\\SHARKS-_IN_DISGUISE\\your-code\\Sharks_v5.xls')\n",
    "df.shape"
   ]
  },
  {
   "cell_type": "code",
   "execution_count": 66,
   "id": "9bea6833",
   "metadata": {},
   "outputs": [],
   "source": [
    "df.drop(df.loc[df['Year'] == 0].index, axis = 0, inplace = True)"
   ]
  },
  {
   "cell_type": "code",
   "execution_count": 67,
   "id": "3dc36d47",
   "metadata": {},
   "outputs": [
    {
     "data": {
      "text/plain": [
       "F    406\n",
       "Name: Sex , dtype: int64"
      ]
     },
     "execution_count": 67,
     "metadata": {},
     "output_type": "execute_result"
    }
   ],
   "source": [
    "xy = df.loc[df['Sex '] == \"M\"]\n",
    "xy['Sex '].value_counts()\n",
    "xx = df.loc[df['Sex '] == \"F\"]\n",
    "xx['Sex '].value_counts()\n"
   ]
  },
  {
   "cell_type": "code",
   "execution_count": 68,
   "id": "49b49df1",
   "metadata": {},
   "outputs": [
    {
     "data": {
      "text/plain": [
       "(3121, 23)"
      ]
     },
     "execution_count": 68,
     "metadata": {},
     "output_type": "execute_result"
    }
   ],
   "source": [
    "df.shape"
   ]
  },
  {
   "cell_type": "code",
   "execution_count": 69,
   "id": "d7dfdb23",
   "metadata": {},
   "outputs": [
    {
     "name": "stdout",
     "output_type": "stream",
     "text": [
      "El porcentaje de muertes por ataque es de un 19 %.\n"
     ]
    }
   ],
   "source": [
    "#% muertos por ataque\n",
    "len(df)\n",
    "x = df.loc[df['Fatal (Y/N)'] == 'Y']\n",
    "percentage_dead = round((x['Fatal (Y/N)'].value_counts()[0])/len(df)*100)\n",
    "print(\"El porcentaje de muertes por ataque es de un\", percentage_dead, \"%.\")"
   ]
  },
  {
   "cell_type": "code",
   "execution_count": 70,
   "id": "b2be3ffc",
   "metadata": {},
   "outputs": [
    {
     "name": "stdout",
     "output_type": "stream",
     "text": [
      "La edad media de las personas atacadas es 27 años.\n"
     ]
    },
    {
     "name": "stderr",
     "output_type": "stream",
     "text": [
      "C:\\Users\\jvaym\\AppData\\Local\\Temp/ipykernel_11932/3955442794.py:1: FutureWarning: Dropping of nuisance columns in DataFrame reductions (with 'numeric_only=None') is deprecated; in a future version this will raise TypeError.  Select only valid columns before calling the reduction.\n",
      "  mean_age = df.loc[df['Age'] > 0 ].mean()\n"
     ]
    }
   ],
   "source": [
    "mean_age = df.loc[df['Age'] > 0 ].mean()\n",
    "print(\"La edad media de las personas atacadas es\",round(mean_age[1]), \"años.\")"
   ]
  },
  {
   "cell_type": "code",
   "execution_count": 71,
   "id": "303c18c7",
   "metadata": {},
   "outputs": [
    {
     "name": "stdout",
     "output_type": "stream",
     "text": [
      "El 87 % de los ataques se producen contra hombres.\n"
     ]
    }
   ],
   "source": [
    "total_mf = xx['Sex '].value_counts()[0] + xy['Sex '].value_counts()[0]\n",
    "ratio_ft = (xx['Sex '].value_counts()[0]/total_mf)*100\n",
    "ratio_mt = (xy['Sex '].value_counts()[0]/total_mf)*100\n",
    "print(\"El\", round(ratio_mt), \"% de los ataques se producen contra hombres.\")"
   ]
  },
  {
   "cell_type": "code",
   "execution_count": 73,
   "id": "1dca7d54",
   "metadata": {},
   "outputs": [
    {
     "data": {
      "text/plain": [
       "array([[<AxesSubplot:title={'center':'Year'}>]], dtype=object)"
      ]
     },
     "execution_count": 73,
     "metadata": {},
     "output_type": "execute_result"
    },
    {
     "data": {
      "image/png": "[encoded data removed]",
      "text/plain": [
       "<Figure size 432x288 with 1 Axes>"
      ]
     },
     "metadata": {
      "needs_background": "light"
     },
     "output_type": "display_data"
    }
   ],
   "source": [
    "df.hist('Year') "
   ]
  },
  {
   "cell_type": "code",
   "execution_count": 74,
   "id": "7624935c",
   "metadata": {},
   "outputs": [
    {
     "data": {
      "text/plain": [
       "array([[<AxesSubplot:title={'center':'Age'}>]], dtype=object)"
      ]
     },
     "execution_count": 74,
     "metadata": {},
     "output_type": "execute_result"
    },
    {
     "data": {
      "image/png": "[encoded data removed]",
      "text/plain": [
       "<Figure size 432x288 with 1 Axes>"
      ]
     },
     "metadata": {
      "needs_background": "light"
     },
     "output_type": "display_data"
    }
   ],
   "source": [
    "df.hist('Age')"
   ]
  },
  {
   "cell_type": "code",
   "execution_count": null,
   "id": "b38bf709",
   "metadata": {},
   "outputs": [],
   "source": []
  },
  {
   "cell_type": "code",
   "execution_count": null,
   "id": "937f645c",
   "metadata": {},
   "outputs": [],
   "source": []
  }
 ],
 "metadata": {
  "kernelspec": {
   "display_name": "Python 3 (ipykernel)",
   "language": "python",
   "name": "python3"
  },
  "language_info": {
   "codemirror_mode": {
    "name": "ipython",
    "version": 3
   },
   "file_extension": ".py",
   "mimetype": "text/x-python",
   "name": "python",
   "nbconvert_exporter": "python",
   "pygments_lexer": "ipython3",
   "version": "3.9.7"
  }
 },
 "nbformat": 4,
 "nbformat_minor": 5
}
